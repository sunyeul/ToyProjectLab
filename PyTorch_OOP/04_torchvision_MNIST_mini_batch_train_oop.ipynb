{
  "cells": [
    {
      "cell_type": "markdown",
      "metadata": {
        "id": "view-in-github",
        "colab_type": "text"
      },
      "source": [
        "<a href=\"https://colab.research.google.com/github/sunyeul/ToyProjectLab/blob/feature%2Fpytorch-oop-sample/PyTorch_OOP/04_torchvision_MNIST_mini_batch_train_oop.ipynb\" target=\"_parent\"><img src=\"https://colab.research.google.com/assets/colab-badge.svg\" alt=\"Open In Colab\"/></a>"
      ]
    },
    {
      "cell_type": "code",
      "execution_count": null,
      "metadata": {
        "id": "ivvF1i1H8e7s"
      },
      "outputs": [],
      "source": [
        "import os\n",
        "\n",
        "import torch\n",
        "from torch import nn, optim\n",
        "from torch.utils.data import DataLoader, random_split\n",
        "\n",
        "from torchvision.datasets import MNIST\n",
        "from torchvision.transforms import Compose, ToTensor, Normalize\n",
        "\n",
        "from tqdm import tqdm\n",
        "\n",
        "import matplotlib.pyplot as plt"
      ]
    },
    {
      "cell_type": "code",
      "execution_count": null,
      "metadata": {
        "id": "BvizxMCY8e7v"
      },
      "outputs": [],
      "source": [
        "class cfg:\n",
        "    train_batch_size = 64\n",
        "    val_batch_size = 64\n",
        "    num_epochs = 10"
      ]
    },
    {
      "cell_type": "code",
      "execution_count": null,
      "metadata": {
        "id": "esCzvNSR8e7w"
      },
      "outputs": [],
      "source": [
        "class MNISTClassifier(nn.Module):\n",
        "    def __init__(self):\n",
        "        super(MNISTClassifier, self).__init__()\n",
        "\n",
        "        # mnist images are (1, 28, 28) (channels, width, height) \n",
        "        self.layer_1 = torch.nn.Linear(28 * 28, 128)\n",
        "        self.layer_2 = torch.nn.Linear(128, 256)\n",
        "        self.layer_3 = torch.nn.Linear(256, 10)\n",
        "        \n",
        "        self.relu = nn.ReLU()\n",
        "        self.log_softmax = nn.LogSoftmax(dim=1)\n",
        "    \n",
        "    def forward(self, x):\n",
        "        # (b, 1, 28, 28) -> (b, 1*28*28)\n",
        "        x = x.view(x.size(0), -1)\n",
        "        \n",
        "        return nn.Sequential(\n",
        "            self.layer_1,\n",
        "            self.relu,\n",
        "            self.layer_2,\n",
        "            self.relu,\n",
        "            self.layer_3,\n",
        "            self.log_softmax\n",
        "        )(x)"
      ]
    },
    {
      "cell_type": "code",
      "execution_count": null,
      "metadata": {
        "id": "QC772c_x8e7w"
      },
      "outputs": [],
      "source": [
        "class MNISTDataModule:\n",
        "    def __init__(\n",
        "        self,\n",
        "        data_dir,\n",
        "        train_batch_size=64,\n",
        "        val_batch_size=64,\n",
        "        ):\n",
        "        self.data_dir = data_dir\n",
        "        self.train_batch_size = train_batch_size\n",
        "        self.val_batch_size = val_batch_size\n",
        "\n",
        "    def prepare_data(self):\n",
        "        transform = Compose([\n",
        "            ToTensor(),\n",
        "            Normalize((0.1307,), (0.3081,))\n",
        "        ])\n",
        "        self.train_dataset = MNIST(\n",
        "            root=self.data_dir,\n",
        "            train=True,\n",
        "            download=True,\n",
        "            transform=transform\n",
        "        )\n",
        "\n",
        "    def setup(self):\n",
        "        self.train_dataset, self.val_dataset = random_split(\n",
        "            dataset=self.train_dataset,\n",
        "            lengths=[55_000, 5_000]\n",
        "        )\n",
        "\n",
        "    def train_dataloader(self):\n",
        "        return DataLoader(\n",
        "            dataset=self.train_dataset,\n",
        "            batch_size=self.train_batch_size,\n",
        "            shuffle=True\n",
        "            )\n",
        "\n",
        "    def val_dataloader(self):\n",
        "        return DataLoader(\n",
        "            dataset=self.val_dataset,\n",
        "            batch_size=self.val_batch_size,\n",
        "            shuffle=True\n",
        "            )"
      ]
    },
    {
      "cell_type": "code",
      "execution_count": null,
      "metadata": {
        "id": "lv7ZfwTI8e7x"
      },
      "outputs": [],
      "source": [
        "class Logger:\n",
        "    def __init__(self):\n",
        "        self.train_losses = []\n",
        "        self.val_losses = []\n",
        "\n",
        "    def log_train_loss(self, loss):\n",
        "        self.train_losses.append(loss)\n",
        "\n",
        "    def log_val_loss(self, loss):\n",
        "        self.val_losses.append(loss)\n",
        "\n",
        "    def plot_losses(self):\n",
        "        plt.plot(self.train_losses, label='Train Loss')\n",
        "        plt.plot(self.val_losses, label='Validation Loss')\n",
        "        plt.xlabel('Epoch')\n",
        "        plt.ylabel('Loss')\n",
        "        plt.legend()\n",
        "        plt.grid(True)\n",
        "        plt.show()"
      ]
    },
    {
      "cell_type": "code",
      "execution_count": null,
      "metadata": {
        "id": "VdIS412g8e7y"
      },
      "outputs": [],
      "source": [
        "class MNISTTrainer:\n",
        "    def __init__(self, num_epochs, lr=1e-3):\n",
        "        self.num_epochs = num_epochs\n",
        "        self.lr = lr\n",
        "\n",
        "        self.logger = Logger()\n",
        "\n",
        "    def cross_entropy_loss(self, out, y):\n",
        "        lossfun = nn.CrossEntropyLoss()\n",
        "        return lossfun(out, y)\n",
        "\n",
        "    def configure_optimizers(self, model):\n",
        "        optimizer = optim.SGD(model.parameters(), lr=self.lr)\n",
        "        return optimizer \n",
        "\n",
        "    def train_step(self, batch):\n",
        "        x, y = batch\n",
        "        x = x.view(x.size(0), -1)\n",
        "\n",
        "        out = self.model(x)\n",
        "\n",
        "        loss = self.cross_entropy_loss(out, y)\n",
        "        loss.backward()\n",
        "\n",
        "        self.optimizer.step()\n",
        "        self.optimizer.zero_grad()\n",
        "\n",
        "        return loss.item()\n",
        "\n",
        "    def train_epoch(self, train_dataloader):\n",
        "        self.model.train()\n",
        "        train_epoch_loss = 0\n",
        "        for train_batch in train_dataloader:\n",
        "            train_batch_loss = self.train_step(batch=train_batch)\n",
        "            train_epoch_loss += train_batch_loss\n",
        "        train_epoch_loss /= len(train_dataloader)\n",
        "        self.logger.log_train_loss(loss=train_epoch_loss)\n",
        "\n",
        "    def on_train_epoch_end(self):\n",
        "        pass\n",
        "\n",
        "    def validation_step(self, batch):\n",
        "        with torch.no_grad():\n",
        "            x, y= batch\n",
        "            x = x.view(x.size(0), -1)\n",
        "\n",
        "            out = self.model(x)\n",
        "\n",
        "            loss = self.cross_entropy_loss(out, y)\n",
        "            return loss.item()\n",
        "\n",
        "    def validate_epoch(self, val_dataloader):\n",
        "        self.model.eval()\n",
        "        val_epoch_loss = 0\n",
        "        for val_batch in val_dataloader:\n",
        "            val_batch_loss = self.validation_step(batch=val_batch)\n",
        "            val_epoch_loss += val_batch_loss\n",
        "        val_epoch_loss /= len(val_dataloader)\n",
        "        self.logger.log_val_loss(loss=val_epoch_loss)\n",
        "\n",
        "    def on_validation_epoch_end(self):\n",
        "        pass\n",
        "\n",
        "    def train(self, model, data_module):\n",
        "        self.model = model\n",
        "        self.data_module = data_module\n",
        "        self.optimizer = self.configure_optimizers(model=self.model)\n",
        "\n",
        "        train_dataloader = data_module.train_dataloader()\n",
        "        val_dataloader = data_module.val_dataloader()\n",
        "\n",
        "        for _ in tqdm(range(self.num_epochs)):\n",
        "            self.train_epoch(train_dataloader)\n",
        "            self.on_train_epoch_end()\n",
        "\n",
        "            self.validate_epoch(val_dataloader)\n",
        "            self.on_validation_epoch_end()"
      ]
    },
    {
      "cell_type": "code",
      "execution_count": null,
      "metadata": {
        "id": "Y-HnGbtv8e7y"
      },
      "outputs": [],
      "source": [
        "mnist_clf = MNISTClassifier()\n",
        "\n",
        "mnist_data_module = MNISTDataModule(\n",
        "    data_dir=os.getcwd(),\n",
        "    train_batch_size=cfg.train_batch_size,\n",
        "    val_batch_size=cfg.val_batch_size\n",
        ")\n",
        "mnist_data_module.prepare_data()\n",
        "mnist_data_module.setup()\n",
        "\n",
        "mnist_trainer = MNISTTrainer(\n",
        "    num_epochs=cfg.num_epochs\n",
        ")"
      ]
    },
    {
      "cell_type": "code",
      "execution_count": null,
      "metadata": {
        "id": "uhI-wFTx8e7z",
        "outputId": "3c2430e6-1edd-43ef-d544-466162d59447"
      },
      "outputs": [
        {
          "name": "stderr",
          "output_type": "stream",
          "text": [
            "100%|██████████| 10/10 [01:48<00:00, 10.83s/it]\n"
          ]
        }
      ],
      "source": [
        "mnist_trainer.train(\n",
        "    model=mnist_clf,\n",
        "    data_module=mnist_data_module\n",
        ")"
      ]
    },
    {
      "cell_type": "code",
      "execution_count": null,
      "metadata": {
        "id": "yuDuWKvg8e70",
        "outputId": "19a7588c-8d7c-45e6-bdb1-1aa893e1233f"
      },
      "outputs": [
        {
          "data": {
            "image/png": "[encoded data removed]",
            "text/plain": [
              "<Figure size 640x480 with 1 Axes>"
            ]
          },
          "metadata": {},
          "output_type": "display_data"
        }
      ],
      "source": [
        "mnist_trainer.logger.plot_losses()"
      ]
    },
    {
      "cell_type": "code",
      "execution_count": null,
      "metadata": {
        "id": "A125h5LA8e70"
      },
      "outputs": [],
      "source": []
    }
  ],
  "metadata": {
    "kernelspec": {
      "display_name": ".venv",
      "language": "python",
      "name": "python3"
    },
    "language_info": {
      "codemirror_mode": {
        "name": "ipython",
        "version": 3
      },
      "file_extension": ".py",
      "mimetype": "text/x-python",
      "name": "python",
      "nbconvert_exporter": "python",
      "pygments_lexer": "ipython3",
      "version": "3.11.2"
    },
    "orig_nbformat": 4,
    "colab": {
      "provenance": [],
      "include_colab_link": true
    }
  },
  "nbformat": 4,
  "nbformat_minor": 0
}
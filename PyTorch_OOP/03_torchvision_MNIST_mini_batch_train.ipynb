{
  "cells": [
    {
      "cell_type": "markdown",
      "metadata": {
        "id": "view-in-github",
        "colab_type": "text"
      },
      "source": [
        "<a href=\"https://colab.research.google.com/github/sunyeul/ToyProjectLab/blob/feature%2Fpytorch-oop-sample/PyTorch_OOP/03_torchvision_MNIST_mini_batch_train.ipynb\" target=\"_parent\"><img src=\"https://colab.research.google.com/assets/colab-badge.svg\" alt=\"Open In Colab\"/></a>"
      ]
    },
    {
      "cell_type": "code",
      "execution_count": null,
      "metadata": {
        "id": "gRQ8QSZV8eLS"
      },
      "outputs": [],
      "source": [
        "import os\n",
        "\n",
        "import torch\n",
        "from torch import nn, optim\n",
        "from torch.utils.data import DataLoader, random_split\n",
        "\n",
        "from torchvision.datasets import MNIST\n",
        "from torchvision.transforms import Compose, ToTensor, Normalize\n",
        "\n",
        "from tqdm import tqdm\n",
        "\n",
        "import matplotlib.pyplot as plt"
      ]
    },
    {
      "cell_type": "code",
      "execution_count": null,
      "metadata": {
        "id": "WDv8SXLx8eLW"
      },
      "outputs": [],
      "source": [
        "class cfg:\n",
        "    train_batch_size = 64\n",
        "    val_batch_size = 64\n",
        "    num_epochs = 10"
      ]
    },
    {
      "cell_type": "code",
      "execution_count": null,
      "metadata": {
        "id": "71KmZFOZ8eLX"
      },
      "outputs": [],
      "source": [
        "model = nn.Sequential(\n",
        "    nn.Linear(28*28, 32),\n",
        "    nn.ReLU(),\n",
        "    nn.Linear(32, 16),\n",
        "    nn.ReLU(),\n",
        "    nn.Linear(16, 10),\n",
        ")\n",
        "\n",
        "model.train() # 明示的に学習モードにしている（デフォルトでtraining=Trueなので本当は不要）\n",
        "lossfun = nn.CrossEntropyLoss()\n",
        "optimizer = optim.SGD(model.parameters(), lr=1e-3)"
      ]
    },
    {
      "cell_type": "code",
      "execution_count": null,
      "metadata": {
        "id": "w7aSbq1l8eLX"
      },
      "outputs": [],
      "source": [
        "transform = Compose([\n",
        "    ToTensor(),\n",
        "    Normalize((0.1307,), (0.3081,))\n",
        "])\n",
        "\n",
        "mnist_train_dataset = MNIST(\n",
        "    root=os.getcwd(),\n",
        "    train=True,\n",
        "    download=True,\n",
        "    transform=transform\n",
        ")\n",
        "\n",
        "mnist_train_dataset, mnist_val_dataset = random_split(\n",
        "    dataset=mnist_train_dataset,\n",
        "    lengths=[55_000, 5_000]\n",
        ")\n",
        "\n",
        "mnist_train_dataloader = DataLoader(\n",
        "    dataset=mnist_train_dataset,\n",
        "    batch_size=cfg.train_batch_size,\n",
        "    shuffle=False\n",
        "    )\n",
        "\n",
        "\n",
        "mnist_val_dataloader = DataLoader(\n",
        "    dataset=mnist_val_dataset,\n",
        "    batch_size=cfg.val_batch_size,\n",
        "    shuffle=False\n",
        "    )"
      ]
    },
    {
      "cell_type": "code",
      "execution_count": null,
      "metadata": {
        "id": "B8lCFo_F8eLY",
        "outputId": "9c1a0964-7b4a-48c5-9ae2-f5db396e517c"
      },
      "outputs": [
        {
          "name": "stderr",
          "output_type": "stream",
          "text": [
            "100%|██████████| 10/10 [01:40<00:00, 10.08s/it]\n"
          ]
        }
      ],
      "source": [
        "avg_val_losses = []\n",
        "\n",
        "for ep in tqdm(range(cfg.num_epochs)):\n",
        "\n",
        "    for train_batch in mnist_train_dataloader:\n",
        "        x, y = train_batch\n",
        "        x = x.view(x.size(0), -1)\n",
        "        \n",
        "        out = model(x)\n",
        "        \n",
        "        train_loss = lossfun(out, y)\n",
        "        train_loss.backward()\n",
        "        \n",
        "        optimizer.step()\n",
        "        optimizer.zero_grad()\n",
        "\n",
        "    with torch.no_grad():\n",
        "        epoch_avg_val_loss = 0\n",
        "        for val_batch in mnist_val_dataloader:\n",
        "            x, y= val_batch\n",
        "            x = x.view(x.size(0), -1)\n",
        "\n",
        "            out = model(x)\n",
        "\n",
        "            val_loss = lossfun(out, y)\n",
        "            epoch_avg_val_loss += val_loss.item() / x.size(0)\n",
        "    avg_val_losses.append(epoch_avg_val_loss)"
      ]
    },
    {
      "cell_type": "code",
      "execution_count": null,
      "metadata": {
        "id": "ALG421L28eLa",
        "outputId": "4db09b1d-1972-4e0a-b4b7-12b17a4e6ba2"
      },
      "outputs": [
        {
          "data": {
            "image/png": "[encoded data removed]",
            "text/plain": [
              "<Figure size 640x480 with 1 Axes>"
            ]
          },
          "metadata": {},
          "output_type": "display_data"
        }
      ],
      "source": [
        "plt.plot(avg_val_losses)\n",
        "plt.xlabel('epoch')\n",
        "plt.ylabel('avg_val_loss')\n",
        "plt.grid(True)\n",
        "plt.show()"
      ]
    },
    {
      "cell_type": "code",
      "execution_count": null,
      "metadata": {
        "id": "NShbpefz8eLb"
      },
      "outputs": [],
      "source": []
    }
  ],
  "metadata": {
    "kernelspec": {
      "display_name": ".venv",
      "language": "python",
      "name": "python3"
    },
    "language_info": {
      "codemirror_mode": {
        "name": "ipython",
        "version": 3
      },
      "file_extension": ".py",
      "mimetype": "text/x-python",
      "name": "python",
      "nbconvert_exporter": "python",
      "pygments_lexer": "ipython3",
      "version": "3.11.2"
    },
    "orig_nbformat": 4,
    "colab": {
      "provenance": [],
      "include_colab_link": true
    }
  },
  "nbformat": 4,
  "nbformat_minor": 0
}
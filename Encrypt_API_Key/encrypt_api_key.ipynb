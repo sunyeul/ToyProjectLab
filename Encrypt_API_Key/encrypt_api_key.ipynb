{
  "nbformat": 4,
  "nbformat_minor": 0,
  "metadata": {
    "colab": {
      "provenance": [],
      "authorship_tag": "ABX9TyMtk4AB64p02zogEGuV2BlY",
      "include_colab_link": true
    },
    "kernelspec": {
      "name": "python3",
      "display_name": "Python 3"
    },
    "language_info": {
      "name": "python"
    }
  },
  "cells": [
    {
      "cell_type": "markdown",
      "metadata": {
        "id": "view-in-github",
        "colab_type": "text"
      },
      "source": [
        "<a href=\"https://colab.research.google.com/github/sunyeul/ToyProjectLab/blob/feature%2Fencrypt-api-key-sample/Encrypt_API_Key/encrypt_api_key.ipynb\" target=\"_parent\"><img src=\"https://colab.research.google.com/assets/colab-badge.svg\" alt=\"Open In Colab\"/></a>"
      ]
    },
    {
      "cell_type": "code",
      "execution_count": null,
      "metadata": {
        "id": "ylqLLzodzvVC"
      },
      "outputs": [],
      "source": [
        "!pip install --upgrade -qq cryptography"
      ]
    },
    {
      "cell_type": "code",
      "source": [
        "# generate_single_encryption_key.py\n",
        "\n",
        "import os\n",
        "import base64\n",
        "\n",
        "def generate_key():\n",
        "    key = base64.urlsafe_b64encode(os.urandom(32))\n",
        "    return key\n",
        "\n",
        "# 하나의 암호화 키 생성\n",
        "single_key = generate_key()\n",
        "\n",
        "with open(\"single_encryption_key.key\", \"wb\") as key_file:\n",
        "    key_file.write(single_key)"
      ],
      "metadata": {
        "id": "V-Blm8nn25Gu"
      },
      "execution_count": 2,
      "outputs": []
    },
    {
      "cell_type": "code",
      "source": [
        "# encrypt_api_keys.py\n",
        "\n",
        "from cryptography.fernet import Fernet\n",
        "import json\n",
        "\n",
        "def encrypt_api_key(api_key, key):\n",
        "    f = Fernet(key)\n",
        "    encrypted_api_key = f.encrypt(api_key.encode())\n",
        "    return encrypted_api_key\n",
        "\n",
        "# API 키 예시 (API 이름과 키 값)\n",
        "api_keys = {\n",
        "    \"service1\": \"api_key_1\",  # os.environ.get(\"api_key_1\")\n",
        "    \"service2\": \"api_key_2\",  # os.environ.get(\"api_key_2\")\n",
        "    \"service3\": \"api_key_3\"  # os.environ.get(\"api_key_3\")\n",
        "}\n",
        "\n",
        "# API 키 및 암호화 키 저장을 위한 딕셔너리\n",
        "encrypted_api_keys = {}\n",
        "\n",
        "# 각 API 키를 암호화\n",
        "for service, api_key in api_keys.items():\n",
        "    encrypted_api_key = encrypt_api_key(api_key, single_key)\n",
        "    encrypted_api_keys[service] = encrypted_api_key.decode()\n",
        "\n",
        "# 암호화된 API 키 및 암호화 키를 JSON 파일로 저장\n",
        "with open(\"encrypted_api_keys.json\", \"w\") as f:\n",
        "    json.dump(encrypted_api_keys, f)"
      ],
      "metadata": {
        "id": "bCy_6uZ-3DMO"
      },
      "execution_count": 3,
      "outputs": []
    },
    {
      "cell_type": "code",
      "source": [
        "# decrypt_api_keys.py\n",
        "\n",
        "import json\n",
        "\n",
        "def decrypt_api_key(encrypted_api_key, key):\n",
        "    f = Fernet(key)\n",
        "    decrypted_api_key = f.decrypt(encrypted_api_key).decode()\n",
        "    return decrypted_api_key\n",
        "\n",
        "\n",
        "# 암호화된 API 키를 JSON 파일에서 불러오기\n",
        "with open(\"encrypted_api_keys.json\", \"r\") as f:\n",
        "    encrypted_api_keys = json.load(f)\n",
        "\n",
        "# 암호화 키 불러오기\n",
        "with open(\"single_encryption_key.key\", \"rb\") as key_file:\n",
        "    single_key = key_file.read()\n",
        "\n",
        "# 모든 API 키를 복호화하고 출력\n",
        "for service in encrypted_api_keys:\n",
        "    encrypted_api_key = encrypted_api_keys[service].encode()\n",
        "\n",
        "    decrypted_api_key = decrypt_api_key(encrypted_api_key, single_key)\n",
        "    print(f\"{service} Decrypted API key: {decrypted_api_key}\")"
      ],
      "metadata": {
        "colab": {
          "base_uri": "https://localhost:8080/"
        },
        "id": "HEiKFgoa0HPM",
        "outputId": "9a568f09-d9c6-445e-a039-5acf10897e75"
      },
      "execution_count": 4,
      "outputs": [
        {
          "output_type": "stream",
          "name": "stdout",
          "text": [
            "service1 Decrypted API key: api_key_1\n",
            "service2 Decrypted API key: api_key_2\n",
            "service3 Decrypted API key: api_key_3\n"
          ]
        }
      ]
    },
    {
      "cell_type": "code",
      "source": [],
      "metadata": {
        "id": "Hu1cvoJL0Xml"
      },
      "execution_count": null,
      "outputs": []
    }
  ]
}